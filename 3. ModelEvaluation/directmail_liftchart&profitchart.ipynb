{
 "cells": [
  {
   "cell_type": "markdown",
   "metadata": {},
   "source": [
    "## Assignment 3 "
   ]
  },
  {
   "cell_type": "markdown",
   "metadata": {},
   "source": [
    "### 2018122007 변수현\n",
    "#### Goal : learn about the model evalation techniques "
   ]
  },
  {
   "cell_type": "markdown",
   "metadata": {},
   "source": [
    "### 0. Prepare DATA"
   ]
  },
  {
   "cell_type": "code",
   "execution_count": 1,
   "metadata": {},
   "outputs": [],
   "source": [
    "import numpy as np\n",
    "import pandas as pd\n",
    "\n",
    "import statsmodels.api as sm\n",
    "import statsmodels.formula.api as smf"
   ]
  },
  {
   "cell_type": "code",
   "execution_count": 2,
   "metadata": {},
   "outputs": [],
   "source": [
    "#input data\n",
    "directmail = pd.read_csv('directmail.csv')"
   ]
  },
  {
   "cell_type": "code",
   "execution_count": 3,
   "metadata": {},
   "outputs": [],
   "source": [
    "#preprocessing data\n",
    "directmail = directmail.dropna().reset_index(drop=True)\n",
    "\n",
    "directmail['MARRIED'] = directmail['MARRIED'].astype('int')\n",
    "directmail['OWNHOME'] = directmail['OWNHOME'].astype('int')\n",
    "\n",
    "directmail = pd.get_dummies(directmail, columns=['GENDER'], drop_first=True)"
   ]
  },
  {
   "cell_type": "code",
   "execution_count": 4,
   "metadata": {},
   "outputs": [
    {
     "data": {
      "text/html": [
       "<div>\n",
       "<style scoped>\n",
       "    .dataframe tbody tr th:only-of-type {\n",
       "        vertical-align: middle;\n",
       "    }\n",
       "\n",
       "    .dataframe tbody tr th {\n",
       "        vertical-align: top;\n",
       "    }\n",
       "\n",
       "    .dataframe thead th {\n",
       "        text-align: right;\n",
       "    }\n",
       "</style>\n",
       "<table border=\"1\" class=\"dataframe\">\n",
       "  <thead>\n",
       "    <tr style=\"text-align: right;\">\n",
       "      <th></th>\n",
       "      <th>RESPOND</th>\n",
       "      <th>AGE</th>\n",
       "      <th>BUY18</th>\n",
       "      <th>CLIMATE</th>\n",
       "      <th>FICO</th>\n",
       "      <th>INCOME</th>\n",
       "      <th>MARRIED</th>\n",
       "      <th>OWNHOME</th>\n",
       "      <th>GENDER_M</th>\n",
       "    </tr>\n",
       "  </thead>\n",
       "  <tbody>\n",
       "    <tr>\n",
       "      <th>0</th>\n",
       "      <td>0</td>\n",
       "      <td>71.0</td>\n",
       "      <td>1</td>\n",
       "      <td>10</td>\n",
       "      <td>719.0</td>\n",
       "      <td>67.0</td>\n",
       "      <td>1</td>\n",
       "      <td>0</td>\n",
       "      <td>1</td>\n",
       "    </tr>\n",
       "    <tr>\n",
       "      <th>1</th>\n",
       "      <td>0</td>\n",
       "      <td>53.0</td>\n",
       "      <td>0</td>\n",
       "      <td>10</td>\n",
       "      <td>751.0</td>\n",
       "      <td>72.0</td>\n",
       "      <td>1</td>\n",
       "      <td>0</td>\n",
       "      <td>1</td>\n",
       "    </tr>\n",
       "    <tr>\n",
       "      <th>2</th>\n",
       "      <td>0</td>\n",
       "      <td>53.0</td>\n",
       "      <td>1</td>\n",
       "      <td>10</td>\n",
       "      <td>725.0</td>\n",
       "      <td>70.0</td>\n",
       "      <td>1</td>\n",
       "      <td>0</td>\n",
       "      <td>0</td>\n",
       "    </tr>\n",
       "    <tr>\n",
       "      <th>3</th>\n",
       "      <td>0</td>\n",
       "      <td>45.0</td>\n",
       "      <td>1</td>\n",
       "      <td>10</td>\n",
       "      <td>684.0</td>\n",
       "      <td>56.0</td>\n",
       "      <td>0</td>\n",
       "      <td>0</td>\n",
       "      <td>0</td>\n",
       "    </tr>\n",
       "    <tr>\n",
       "      <th>4</th>\n",
       "      <td>0</td>\n",
       "      <td>32.0</td>\n",
       "      <td>0</td>\n",
       "      <td>10</td>\n",
       "      <td>651.0</td>\n",
       "      <td>66.0</td>\n",
       "      <td>0</td>\n",
       "      <td>0</td>\n",
       "      <td>0</td>\n",
       "    </tr>\n",
       "  </tbody>\n",
       "</table>\n",
       "</div>"
      ],
      "text/plain": [
       "   RESPOND   AGE  BUY18  CLIMATE   FICO  INCOME  MARRIED  OWNHOME  GENDER_M\n",
       "0        0  71.0      1       10  719.0    67.0        1        0         1\n",
       "1        0  53.0      0       10  751.0    72.0        1        0         1\n",
       "2        0  53.0      1       10  725.0    70.0        1        0         0\n",
       "3        0  45.0      1       10  684.0    56.0        0        0         0\n",
       "4        0  32.0      0       10  651.0    66.0        0        0         0"
      ]
     },
     "execution_count": 4,
     "metadata": {},
     "output_type": "execute_result"
    }
   ],
   "source": [
    "directmail.head()"
   ]
  },
  {
   "cell_type": "markdown",
   "metadata": {},
   "source": [
    "### 1. First divide the data into two pieces using 50:50 proportion: one for training and the other for test. (Use the last four digit of your ID as the seed number and use 50:50 proportion)"
   ]
  },
  {
   "cell_type": "code",
   "execution_count": 5,
   "metadata": {},
   "outputs": [],
   "source": [
    "from sklearn.model_selection import train_test_split"
   ]
  },
  {
   "cell_type": "code",
   "execution_count": 6,
   "metadata": {},
   "outputs": [],
   "source": [
    "y = directmail[\"RESPOND\"]\n",
    "train, test = train_test_split(directmail, test_size=0.5, random_state=2007, stratify=y)"
   ]
  },
  {
   "cell_type": "code",
   "execution_count": 7,
   "metadata": {},
   "outputs": [
    {
     "name": "stdout",
     "output_type": "stream",
     "text": [
      "4863 4864\n"
     ]
    }
   ],
   "source": [
    "print(len(train),len(test))"
   ]
  },
  {
   "cell_type": "markdown",
   "metadata": {},
   "source": [
    "### 2. Fit the (1) Full Logistic Regression, (2) Backward selection Logistic Regression using AIC."
   ]
  },
  {
   "cell_type": "markdown",
   "metadata": {},
   "source": [
    "#### (1) Full Logistic Regression\n",
    "* 모든 X변수를 이용하여 fitting 시킨 logistic regression 모델임\n",
    "* fitting 결과를 통해 Income, Gender_m을 제외한 age,buy18,climate,fico,ownhome,married가 p-value 0.05이하로, 종속변수에 유의미한 영향을 끼치는 변수임을 알 수 있음"
   ]
  },
  {
   "cell_type": "code",
   "execution_count": 8,
   "metadata": {},
   "outputs": [],
   "source": [
    "model1 = smf.glm(formula='RESPOND ~ AGE+BUY18+CLIMATE+FICO+INCOME+OWNHOME+MARRIED+GENDER_M',\n",
    "               data=train, family=sm.families.Binomial())  \n",
    "results1 = model1.fit()"
   ]
  },
  {
   "cell_type": "code",
   "execution_count": 9,
   "metadata": {},
   "outputs": [
    {
     "data": {
      "text/html": [
       "<table class=\"simpletable\">\n",
       "<caption>Generalized Linear Model Regression Results</caption>\n",
       "<tr>\n",
       "  <th>Dep. Variable:</th>        <td>RESPOND</td>     <th>  No. Observations:  </th>  <td>  4863</td> \n",
       "</tr>\n",
       "<tr>\n",
       "  <th>Model:</th>                  <td>GLM</td>       <th>  Df Residuals:      </th>  <td>  4854</td> \n",
       "</tr>\n",
       "<tr>\n",
       "  <th>Model Family:</th>        <td>Binomial</td>     <th>  Df Model:          </th>  <td>     8</td> \n",
       "</tr>\n",
       "<tr>\n",
       "  <th>Link Function:</th>         <td>logit</td>      <th>  Scale:             </th> <td>  1.0000</td>\n",
       "</tr>\n",
       "<tr>\n",
       "  <th>Method:</th>                <td>IRLS</td>       <th>  Log-Likelihood:    </th> <td> -1240.8</td>\n",
       "</tr>\n",
       "<tr>\n",
       "  <th>Date:</th>            <td>Sun, 25 Apr 2021</td> <th>  Deviance:          </th> <td>  2481.6</td>\n",
       "</tr>\n",
       "<tr>\n",
       "  <th>Time:</th>                <td>20:00:48</td>     <th>  Pearson chi2:      </th> <td>4.84e+03</td>\n",
       "</tr>\n",
       "<tr>\n",
       "  <th>No. Iterations:</th>          <td>6</td>        <th>                     </th>     <td> </td>   \n",
       "</tr>\n",
       "<tr>\n",
       "  <th>Covariance Type:</th>     <td>nonrobust</td>    <th>                     </th>     <td> </td>   \n",
       "</tr>\n",
       "</table>\n",
       "<table class=\"simpletable\">\n",
       "<tr>\n",
       "      <td></td>         <th>coef</th>     <th>std err</th>      <th>z</th>      <th>P>|z|</th>  <th>[0.025</th>    <th>0.975]</th>  \n",
       "</tr>\n",
       "<tr>\n",
       "  <th>Intercept</th> <td>    4.0848</td> <td>    1.337</td> <td>    3.054</td> <td> 0.002</td> <td>    1.464</td> <td>    6.706</td>\n",
       "</tr>\n",
       "<tr>\n",
       "  <th>AGE</th>       <td>   -0.0370</td> <td>    0.006</td> <td>   -5.773</td> <td> 0.000</td> <td>   -0.050</td> <td>   -0.024</td>\n",
       "</tr>\n",
       "<tr>\n",
       "  <th>BUY18</th>     <td>    0.4639</td> <td>    0.082</td> <td>    5.679</td> <td> 0.000</td> <td>    0.304</td> <td>    0.624</td>\n",
       "</tr>\n",
       "<tr>\n",
       "  <th>CLIMATE</th>   <td>   -0.0168</td> <td>    0.009</td> <td>   -1.921</td> <td> 0.055</td> <td>   -0.034</td> <td>    0.000</td>\n",
       "</tr>\n",
       "<tr>\n",
       "  <th>FICO</th>      <td>   -0.0069</td> <td>    0.002</td> <td>   -3.709</td> <td> 0.000</td> <td>   -0.011</td> <td>   -0.003</td>\n",
       "</tr>\n",
       "<tr>\n",
       "  <th>INCOME</th>    <td>   -0.0060</td> <td>    0.004</td> <td>   -1.702</td> <td> 0.089</td> <td>   -0.013</td> <td>    0.001</td>\n",
       "</tr>\n",
       "<tr>\n",
       "  <th>OWNHOME</th>   <td>   -0.3824</td> <td>    0.128</td> <td>   -2.983</td> <td> 0.003</td> <td>   -0.634</td> <td>   -0.131</td>\n",
       "</tr>\n",
       "<tr>\n",
       "  <th>MARRIED</th>   <td>    0.5531</td> <td>    0.129</td> <td>    4.303</td> <td> 0.000</td> <td>    0.301</td> <td>    0.805</td>\n",
       "</tr>\n",
       "<tr>\n",
       "  <th>GENDER_M</th>  <td>    0.0072</td> <td>    0.113</td> <td>    0.064</td> <td> 0.949</td> <td>   -0.215</td> <td>    0.229</td>\n",
       "</tr>\n",
       "</table>"
      ],
      "text/plain": [
       "<class 'statsmodels.iolib.summary.Summary'>\n",
       "\"\"\"\n",
       "                 Generalized Linear Model Regression Results                  \n",
       "==============================================================================\n",
       "Dep. Variable:                RESPOND   No. Observations:                 4863\n",
       "Model:                            GLM   Df Residuals:                     4854\n",
       "Model Family:                Binomial   Df Model:                            8\n",
       "Link Function:                  logit   Scale:                          1.0000\n",
       "Method:                          IRLS   Log-Likelihood:                -1240.8\n",
       "Date:                Sun, 25 Apr 2021   Deviance:                       2481.6\n",
       "Time:                        20:00:48   Pearson chi2:                 4.84e+03\n",
       "No. Iterations:                     6                                         \n",
       "Covariance Type:            nonrobust                                         \n",
       "==============================================================================\n",
       "                 coef    std err          z      P>|z|      [0.025      0.975]\n",
       "------------------------------------------------------------------------------\n",
       "Intercept      4.0848      1.337      3.054      0.002       1.464       6.706\n",
       "AGE           -0.0370      0.006     -5.773      0.000      -0.050      -0.024\n",
       "BUY18          0.4639      0.082      5.679      0.000       0.304       0.624\n",
       "CLIMATE       -0.0168      0.009     -1.921      0.055      -0.034       0.000\n",
       "FICO          -0.0069      0.002     -3.709      0.000      -0.011      -0.003\n",
       "INCOME        -0.0060      0.004     -1.702      0.089      -0.013       0.001\n",
       "OWNHOME       -0.3824      0.128     -2.983      0.003      -0.634      -0.131\n",
       "MARRIED        0.5531      0.129      4.303      0.000       0.301       0.805\n",
       "GENDER_M       0.0072      0.113      0.064      0.949      -0.215       0.229\n",
       "==============================================================================\n",
       "\"\"\""
      ]
     },
     "execution_count": 9,
     "metadata": {},
     "output_type": "execute_result"
    }
   ],
   "source": [
    "results1.summary()"
   ]
  },
  {
   "cell_type": "markdown",
   "metadata": {},
   "source": [
    "#### (2) Backward selection Logistic Regression using AIC\n",
    "* AIC기준으로 backward selection을 진행했을 때 선택된 최종 변수는 'AGE', 'BUY18', 'CLIMATE', 'FICO','INCOME' 'MARRIED', 'OWNHOME'임. "
   ]
  },
  {
   "cell_type": "code",
   "execution_count": 10,
   "metadata": {},
   "outputs": [],
   "source": [
    "import feature_selection as fsel"
   ]
  },
  {
   "cell_type": "code",
   "execution_count": 11,
   "metadata": {},
   "outputs": [],
   "source": [
    "X = train.drop(['RESPOND'], axis=1)\n",
    "y = train['RESPOND']"
   ]
  },
  {
   "cell_type": "code",
   "execution_count": 12,
   "metadata": {
    "scrolled": true
   },
   "outputs": [
    {
     "name": "stdout",
     "output_type": "stream",
     "text": [
      "Character Variables (Dummies Generated, First Dummies Dropped): []\n",
      "Optimization terminated successfully.\n",
      "         Current function value: 0.255148\n",
      "         Iterations 7\n",
      "Eliminated : GENDER_M\n",
      "Optimization terminated successfully.\n",
      "         Current function value: 0.255148\n",
      "         Iterations 7\n",
      "Eliminated : INCOME\n",
      "Optimization terminated successfully.\n",
      "         Current function value: 0.255455\n",
      "         Iterations 7\n",
      "Regained :  INCOME\n",
      "                           Logit Regression Results                           \n",
      "==============================================================================\n",
      "Dep. Variable:                RESPOND   No. Observations:                 4863\n",
      "Model:                          Logit   Df Residuals:                     4855\n",
      "Method:                           MLE   Df Model:                            7\n",
      "Date:                Sun, 25 Apr 2021   Pseudo R-squ.:                 0.04083\n",
      "Time:                        20:00:49   Log-Likelihood:                -1240.8\n",
      "converged:                       True   LL-Null:                       -1293.6\n",
      "Covariance Type:            nonrobust   LLR p-value:                 7.364e-20\n",
      "==============================================================================\n",
      "                 coef    std err          z      P>|z|      [0.025      0.975]\n",
      "------------------------------------------------------------------------------\n",
      "intercept      4.0860      1.337      3.056      0.002       1.465       6.707\n",
      "AGE           -0.0369      0.006     -5.774      0.000      -0.049      -0.024\n",
      "BUY18          0.4639      0.082      5.678      0.000       0.304       0.624\n",
      "CLIMATE       -0.0168      0.009     -1.924      0.054      -0.034       0.000\n",
      "FICO          -0.0069      0.002     -3.708      0.000      -0.011      -0.003\n",
      "INCOME        -0.0059      0.003     -1.727      0.084      -0.013       0.001\n",
      "MARRIED        0.5528      0.128      4.304      0.000       0.301       0.805\n",
      "OWNHOME       -0.3828      0.128     -2.989      0.003      -0.634      -0.132\n",
      "==============================================================================\n",
      "AIC: 2497.573146161075\n",
      "BIC: 2549.4884326443052\n",
      "Final Variables: ['intercept', 'AGE', 'BUY18', 'CLIMATE', 'FICO', 'INCOME', 'MARRIED', 'OWNHOME']\n"
     ]
    },
    {
     "data": {
      "text/plain": [
       "['intercept',\n",
       " 'AGE',\n",
       " 'BUY18',\n",
       " 'CLIMATE',\n",
       " 'FICO',\n",
       " 'INCOME',\n",
       " 'MARRIED',\n",
       " 'OWNHOME']"
      ]
     },
     "execution_count": 12,
     "metadata": {},
     "output_type": "execute_result"
    }
   ],
   "source": [
    "#AIC 기준으로 backward selection\n",
    "fsel.backwardSelection(X, y, model_type='logistic', elimination_criteria='aic')  "
   ]
  },
  {
   "cell_type": "code",
   "execution_count": 13,
   "metadata": {},
   "outputs": [],
   "source": [
    "#선택된 변수로 구성된 모형 fitting \n",
    "model2 = smf.glm(formula='RESPOND ~ BUY18 + AGE + MARRIED + OWNHOME + FICO +INCOME+ CLIMATE',\n",
    "               data=train, family=sm.families.Binomial())\n",
    "results2 = model2.fit()"
   ]
  },
  {
   "cell_type": "code",
   "execution_count": 14,
   "metadata": {},
   "outputs": [
    {
     "data": {
      "text/html": [
       "<table class=\"simpletable\">\n",
       "<caption>Generalized Linear Model Regression Results</caption>\n",
       "<tr>\n",
       "  <th>Dep. Variable:</th>        <td>RESPOND</td>     <th>  No. Observations:  </th>  <td>  4863</td> \n",
       "</tr>\n",
       "<tr>\n",
       "  <th>Model:</th>                  <td>GLM</td>       <th>  Df Residuals:      </th>  <td>  4855</td> \n",
       "</tr>\n",
       "<tr>\n",
       "  <th>Model Family:</th>        <td>Binomial</td>     <th>  Df Model:          </th>  <td>     7</td> \n",
       "</tr>\n",
       "<tr>\n",
       "  <th>Link Function:</th>         <td>logit</td>      <th>  Scale:             </th> <td>  1.0000</td>\n",
       "</tr>\n",
       "<tr>\n",
       "  <th>Method:</th>                <td>IRLS</td>       <th>  Log-Likelihood:    </th> <td> -1240.8</td>\n",
       "</tr>\n",
       "<tr>\n",
       "  <th>Date:</th>            <td>Sun, 25 Apr 2021</td> <th>  Deviance:          </th> <td>  2481.6</td>\n",
       "</tr>\n",
       "<tr>\n",
       "  <th>Time:</th>                <td>20:00:49</td>     <th>  Pearson chi2:      </th> <td>4.84e+03</td>\n",
       "</tr>\n",
       "<tr>\n",
       "  <th>No. Iterations:</th>          <td>6</td>        <th>                     </th>     <td> </td>   \n",
       "</tr>\n",
       "<tr>\n",
       "  <th>Covariance Type:</th>     <td>nonrobust</td>    <th>                     </th>     <td> </td>   \n",
       "</tr>\n",
       "</table>\n",
       "<table class=\"simpletable\">\n",
       "<tr>\n",
       "      <td></td>         <th>coef</th>     <th>std err</th>      <th>z</th>      <th>P>|z|</th>  <th>[0.025</th>    <th>0.975]</th>  \n",
       "</tr>\n",
       "<tr>\n",
       "  <th>Intercept</th> <td>    4.0860</td> <td>    1.337</td> <td>    3.056</td> <td> 0.002</td> <td>    1.465</td> <td>    6.707</td>\n",
       "</tr>\n",
       "<tr>\n",
       "  <th>BUY18</th>     <td>    0.4639</td> <td>    0.082</td> <td>    5.678</td> <td> 0.000</td> <td>    0.304</td> <td>    0.624</td>\n",
       "</tr>\n",
       "<tr>\n",
       "  <th>AGE</th>       <td>   -0.0369</td> <td>    0.006</td> <td>   -5.774</td> <td> 0.000</td> <td>   -0.049</td> <td>   -0.024</td>\n",
       "</tr>\n",
       "<tr>\n",
       "  <th>MARRIED</th>   <td>    0.5528</td> <td>    0.128</td> <td>    4.304</td> <td> 0.000</td> <td>    0.301</td> <td>    0.805</td>\n",
       "</tr>\n",
       "<tr>\n",
       "  <th>OWNHOME</th>   <td>   -0.3828</td> <td>    0.128</td> <td>   -2.989</td> <td> 0.003</td> <td>   -0.634</td> <td>   -0.132</td>\n",
       "</tr>\n",
       "<tr>\n",
       "  <th>FICO</th>      <td>   -0.0069</td> <td>    0.002</td> <td>   -3.708</td> <td> 0.000</td> <td>   -0.011</td> <td>   -0.003</td>\n",
       "</tr>\n",
       "<tr>\n",
       "  <th>INCOME</th>    <td>   -0.0059</td> <td>    0.003</td> <td>   -1.727</td> <td> 0.084</td> <td>   -0.013</td> <td>    0.001</td>\n",
       "</tr>\n",
       "<tr>\n",
       "  <th>CLIMATE</th>   <td>   -0.0168</td> <td>    0.009</td> <td>   -1.924</td> <td> 0.054</td> <td>   -0.034</td> <td>    0.000</td>\n",
       "</tr>\n",
       "</table>"
      ],
      "text/plain": [
       "<class 'statsmodels.iolib.summary.Summary'>\n",
       "\"\"\"\n",
       "                 Generalized Linear Model Regression Results                  \n",
       "==============================================================================\n",
       "Dep. Variable:                RESPOND   No. Observations:                 4863\n",
       "Model:                            GLM   Df Residuals:                     4855\n",
       "Model Family:                Binomial   Df Model:                            7\n",
       "Link Function:                  logit   Scale:                          1.0000\n",
       "Method:                          IRLS   Log-Likelihood:                -1240.8\n",
       "Date:                Sun, 25 Apr 2021   Deviance:                       2481.6\n",
       "Time:                        20:00:49   Pearson chi2:                 4.84e+03\n",
       "No. Iterations:                     6                                         \n",
       "Covariance Type:            nonrobust                                         \n",
       "==============================================================================\n",
       "                 coef    std err          z      P>|z|      [0.025      0.975]\n",
       "------------------------------------------------------------------------------\n",
       "Intercept      4.0860      1.337      3.056      0.002       1.465       6.707\n",
       "BUY18          0.4639      0.082      5.678      0.000       0.304       0.624\n",
       "AGE           -0.0369      0.006     -5.774      0.000      -0.049      -0.024\n",
       "MARRIED        0.5528      0.128      4.304      0.000       0.301       0.805\n",
       "OWNHOME       -0.3828      0.128     -2.989      0.003      -0.634      -0.132\n",
       "FICO          -0.0069      0.002     -3.708      0.000      -0.011      -0.003\n",
       "INCOME        -0.0059      0.003     -1.727      0.084      -0.013       0.001\n",
       "CLIMATE       -0.0168      0.009     -1.924      0.054      -0.034       0.000\n",
       "==============================================================================\n",
       "\"\"\""
      ]
     },
     "execution_count": 14,
     "metadata": {},
     "output_type": "execute_result"
    }
   ],
   "source": [
    "results2.summary()"
   ]
  },
  {
   "cell_type": "markdown",
   "metadata": {},
   "source": [
    "### 3. Draw a (non-cumulative) Lift Chart using Python for the test data (use % Response as the Y-axis). (Do not use Python packages)"
   ]
  },
  {
   "cell_type": "markdown",
   "metadata": {},
   "source": [
    "* model1, model2를 이용한 확률 예측"
   ]
  },
  {
   "cell_type": "code",
   "execution_count": 15,
   "metadata": {},
   "outputs": [],
   "source": [
    "prob_pred1 = results1.predict(test)\n",
    "prob_pred2 = results2.predict(test)"
   ]
  },
  {
   "cell_type": "markdown",
   "metadata": {},
   "source": [
    "* scored data만들기 "
   ]
  },
  {
   "cell_type": "code",
   "execution_count": 16,
   "metadata": {},
   "outputs": [],
   "source": [
    "scored_dat1 = pd.concat([test['RESPOND'],prob_pred1],axis=1)\n",
    "scored_dat1.columns=['Actual','Predicted']"
   ]
  },
  {
   "cell_type": "code",
   "execution_count": 17,
   "metadata": {},
   "outputs": [],
   "source": [
    "#구매확률이 높은 순서로 인덱스 지정\n",
    "scored_dat1 = scored_dat1.sort_values(by='Predicted', ascending=False)\n",
    "scored_dat1= scored_dat1.reset_index(drop=True)"
   ]
  },
  {
   "cell_type": "code",
   "execution_count": 18,
   "metadata": {},
   "outputs": [],
   "source": [
    "#분위 지정 \n",
    "n = int(0.1*len(scored_dat1))\n",
    "\n",
    "decile =(list(np.repeat(1,n))+\n",
    "         list(np.repeat(2,n))+\n",
    "         list(np.repeat(3,n))+\n",
    "         list(np.repeat(4,n))+\n",
    "         list(np.repeat(5,n))+\n",
    "         list(np.repeat(6,n))+\n",
    "        list(np.repeat(7,n))+\n",
    "        list(np.repeat(8,n))+\n",
    "        list(np.repeat(9,n))+\n",
    "        list(np.repeat(10,len(scored_dat1)-9*n)))"
   ]
  },
  {
   "cell_type": "code",
   "execution_count": 19,
   "metadata": {},
   "outputs": [],
   "source": [
    "scored_dat1[\"decile\"] = decile"
   ]
  },
  {
   "cell_type": "code",
   "execution_count": 20,
   "metadata": {},
   "outputs": [
    {
     "name": "stdout",
     "output_type": "stream",
     "text": [
      "4864\n",
      "4864\n"
     ]
    }
   ],
   "source": [
    "print(len(decile))\n",
    "print(len(scored_dat1))"
   ]
  },
  {
   "cell_type": "code",
   "execution_count": 21,
   "metadata": {
    "scrolled": true
   },
   "outputs": [
    {
     "data": {
      "text/html": [
       "<div>\n",
       "<style scoped>\n",
       "    .dataframe tbody tr th:only-of-type {\n",
       "        vertical-align: middle;\n",
       "    }\n",
       "\n",
       "    .dataframe tbody tr th {\n",
       "        vertical-align: top;\n",
       "    }\n",
       "\n",
       "    .dataframe thead th {\n",
       "        text-align: right;\n",
       "    }\n",
       "</style>\n",
       "<table border=\"1\" class=\"dataframe\">\n",
       "  <thead>\n",
       "    <tr style=\"text-align: right;\">\n",
       "      <th></th>\n",
       "      <th>Actual</th>\n",
       "      <th>Predicted</th>\n",
       "      <th>decile</th>\n",
       "    </tr>\n",
       "  </thead>\n",
       "  <tbody>\n",
       "    <tr>\n",
       "      <th>0</th>\n",
       "      <td>0</td>\n",
       "      <td>0.450852</td>\n",
       "      <td>1</td>\n",
       "    </tr>\n",
       "    <tr>\n",
       "      <th>1</th>\n",
       "      <td>0</td>\n",
       "      <td>0.379937</td>\n",
       "      <td>1</td>\n",
       "    </tr>\n",
       "    <tr>\n",
       "      <th>2</th>\n",
       "      <td>1</td>\n",
       "      <td>0.375052</td>\n",
       "      <td>1</td>\n",
       "    </tr>\n",
       "    <tr>\n",
       "      <th>3</th>\n",
       "      <td>0</td>\n",
       "      <td>0.357114</td>\n",
       "      <td>1</td>\n",
       "    </tr>\n",
       "    <tr>\n",
       "      <th>4</th>\n",
       "      <td>0</td>\n",
       "      <td>0.355302</td>\n",
       "      <td>1</td>\n",
       "    </tr>\n",
       "    <tr>\n",
       "      <th>...</th>\n",
       "      <td>...</td>\n",
       "      <td>...</td>\n",
       "      <td>...</td>\n",
       "    </tr>\n",
       "    <tr>\n",
       "      <th>4859</th>\n",
       "      <td>0</td>\n",
       "      <td>0.012717</td>\n",
       "      <td>10</td>\n",
       "    </tr>\n",
       "    <tr>\n",
       "      <th>4860</th>\n",
       "      <td>0</td>\n",
       "      <td>0.012018</td>\n",
       "      <td>10</td>\n",
       "    </tr>\n",
       "    <tr>\n",
       "      <th>4861</th>\n",
       "      <td>0</td>\n",
       "      <td>0.011863</td>\n",
       "      <td>10</td>\n",
       "    </tr>\n",
       "    <tr>\n",
       "      <th>4862</th>\n",
       "      <td>0</td>\n",
       "      <td>0.010863</td>\n",
       "      <td>10</td>\n",
       "    </tr>\n",
       "    <tr>\n",
       "      <th>4863</th>\n",
       "      <td>0</td>\n",
       "      <td>0.009014</td>\n",
       "      <td>10</td>\n",
       "    </tr>\n",
       "  </tbody>\n",
       "</table>\n",
       "<p>4864 rows × 3 columns</p>\n",
       "</div>"
      ],
      "text/plain": [
       "      Actual  Predicted  decile\n",
       "0          0   0.450852       1\n",
       "1          0   0.379937       1\n",
       "2          1   0.375052       1\n",
       "3          0   0.357114       1\n",
       "4          0   0.355302       1\n",
       "...      ...        ...     ...\n",
       "4859       0   0.012717      10\n",
       "4860       0   0.012018      10\n",
       "4861       0   0.011863      10\n",
       "4862       0   0.010863      10\n",
       "4863       0   0.009014      10\n",
       "\n",
       "[4864 rows x 3 columns]"
      ]
     },
     "execution_count": 21,
     "metadata": {},
     "output_type": "execute_result"
    }
   ],
   "source": [
    "scored_dat1"
   ]
  },
  {
   "cell_type": "markdown",
   "metadata": {},
   "source": [
    "##### scored_dat2"
   ]
  },
  {
   "cell_type": "code",
   "execution_count": 22,
   "metadata": {},
   "outputs": [],
   "source": [
    "scored_dat2 = pd.concat([test['RESPOND'],prob_pred2],axis=1)\n",
    "scored_dat2.columns=['Actual','Predicted']"
   ]
  },
  {
   "cell_type": "code",
   "execution_count": 23,
   "metadata": {},
   "outputs": [],
   "source": [
    "#구매확률이 높은 순서로 인덱스 지정\n",
    "scored_dat2 = scored_dat2.sort_values(by='Predicted', ascending=False)\n",
    "scored_dat2= scored_dat2.reset_index(drop=True)"
   ]
  },
  {
   "cell_type": "code",
   "execution_count": 24,
   "metadata": {},
   "outputs": [],
   "source": [
    "#decile 추가 \n",
    "scored_dat2[\"decile\"] = decile"
   ]
  },
  {
   "cell_type": "code",
   "execution_count": 25,
   "metadata": {},
   "outputs": [
    {
     "data": {
      "text/html": [
       "<div>\n",
       "<style scoped>\n",
       "    .dataframe tbody tr th:only-of-type {\n",
       "        vertical-align: middle;\n",
       "    }\n",
       "\n",
       "    .dataframe tbody tr th {\n",
       "        vertical-align: top;\n",
       "    }\n",
       "\n",
       "    .dataframe thead th {\n",
       "        text-align: right;\n",
       "    }\n",
       "</style>\n",
       "<table border=\"1\" class=\"dataframe\">\n",
       "  <thead>\n",
       "    <tr style=\"text-align: right;\">\n",
       "      <th></th>\n",
       "      <th>Actual</th>\n",
       "      <th>Predicted</th>\n",
       "      <th>decile</th>\n",
       "    </tr>\n",
       "  </thead>\n",
       "  <tbody>\n",
       "    <tr>\n",
       "      <th>0</th>\n",
       "      <td>0</td>\n",
       "      <td>0.451775</td>\n",
       "      <td>1</td>\n",
       "    </tr>\n",
       "    <tr>\n",
       "      <th>1</th>\n",
       "      <td>0</td>\n",
       "      <td>0.378760</td>\n",
       "      <td>1</td>\n",
       "    </tr>\n",
       "    <tr>\n",
       "      <th>2</th>\n",
       "      <td>1</td>\n",
       "      <td>0.373873</td>\n",
       "      <td>1</td>\n",
       "    </tr>\n",
       "    <tr>\n",
       "      <th>3</th>\n",
       "      <td>0</td>\n",
       "      <td>0.356312</td>\n",
       "      <td>1</td>\n",
       "    </tr>\n",
       "    <tr>\n",
       "      <th>4</th>\n",
       "      <td>0</td>\n",
       "      <td>0.356018</td>\n",
       "      <td>1</td>\n",
       "    </tr>\n",
       "    <tr>\n",
       "      <th>...</th>\n",
       "      <td>...</td>\n",
       "      <td>...</td>\n",
       "      <td>...</td>\n",
       "    </tr>\n",
       "    <tr>\n",
       "      <th>4859</th>\n",
       "      <td>0</td>\n",
       "      <td>0.012688</td>\n",
       "      <td>10</td>\n",
       "    </tr>\n",
       "    <tr>\n",
       "      <th>4860</th>\n",
       "      <td>0</td>\n",
       "      <td>0.011984</td>\n",
       "      <td>10</td>\n",
       "    </tr>\n",
       "    <tr>\n",
       "      <th>4861</th>\n",
       "      <td>0</td>\n",
       "      <td>0.011827</td>\n",
       "      <td>10</td>\n",
       "    </tr>\n",
       "    <tr>\n",
       "      <th>4862</th>\n",
       "      <td>0</td>\n",
       "      <td>0.010850</td>\n",
       "      <td>10</td>\n",
       "    </tr>\n",
       "    <tr>\n",
       "      <th>4863</th>\n",
       "      <td>0</td>\n",
       "      <td>0.008983</td>\n",
       "      <td>10</td>\n",
       "    </tr>\n",
       "  </tbody>\n",
       "</table>\n",
       "<p>4864 rows × 3 columns</p>\n",
       "</div>"
      ],
      "text/plain": [
       "      Actual  Predicted  decile\n",
       "0          0   0.451775       1\n",
       "1          0   0.378760       1\n",
       "2          1   0.373873       1\n",
       "3          0   0.356312       1\n",
       "4          0   0.356018       1\n",
       "...      ...        ...     ...\n",
       "4859       0   0.012688      10\n",
       "4860       0   0.011984      10\n",
       "4861       0   0.011827      10\n",
       "4862       0   0.010850      10\n",
       "4863       0   0.008983      10\n",
       "\n",
       "[4864 rows x 3 columns]"
      ]
     },
     "execution_count": 25,
     "metadata": {},
     "output_type": "execute_result"
    }
   ],
   "source": [
    "scored_dat2"
   ]
  },
  {
   "cell_type": "markdown",
   "metadata": {},
   "source": [
    "* lift chart (y = %response , non-cumulative)\n"
   ]
  },
  {
   "cell_type": "code",
   "execution_count": 26,
   "metadata": {},
   "outputs": [],
   "source": [
    "chart1 = scored_dat1.groupby(\"decile\").agg({\"Predicted\": \"count\",\"Actual\":\"sum\"})\n",
    "chart1.columns = [\"# of customers\",\"Freq of buy\"]\n",
    "chart1[\"%Response\"]=chart1[\"Freq of buy\"]/chart1[\"# of customers\"]*100"
   ]
  },
  {
   "cell_type": "code",
   "execution_count": 27,
   "metadata": {},
   "outputs": [],
   "source": [
    "chart2 = scored_dat2.groupby(\"decile\").agg({\"Predicted\": \"count\",\"Actual\":\"sum\"})\n",
    "chart2.columns = [\"# of customers\",\"Freq of buy\"]\n",
    "chart2[\"%Response\"]=chart2[\"Freq of buy\"]/chart2[\"# of customers\"]*100"
   ]
  },
  {
   "cell_type": "code",
   "execution_count": 28,
   "metadata": {
    "scrolled": true
   },
   "outputs": [
    {
     "data": {
      "text/html": [
       "<div>\n",
       "<style scoped>\n",
       "    .dataframe tbody tr th:only-of-type {\n",
       "        vertical-align: middle;\n",
       "    }\n",
       "\n",
       "    .dataframe tbody tr th {\n",
       "        vertical-align: top;\n",
       "    }\n",
       "\n",
       "    .dataframe thead th {\n",
       "        text-align: right;\n",
       "    }\n",
       "</style>\n",
       "<table border=\"1\" class=\"dataframe\">\n",
       "  <thead>\n",
       "    <tr style=\"text-align: right;\">\n",
       "      <th></th>\n",
       "      <th># of customers</th>\n",
       "      <th>Freq of buy</th>\n",
       "      <th>%Response</th>\n",
       "    </tr>\n",
       "    <tr>\n",
       "      <th>decile</th>\n",
       "      <th></th>\n",
       "      <th></th>\n",
       "      <th></th>\n",
       "    </tr>\n",
       "  </thead>\n",
       "  <tbody>\n",
       "    <tr>\n",
       "      <th>1</th>\n",
       "      <td>486</td>\n",
       "      <td>75</td>\n",
       "      <td>15.432099</td>\n",
       "    </tr>\n",
       "    <tr>\n",
       "      <th>2</th>\n",
       "      <td>486</td>\n",
       "      <td>58</td>\n",
       "      <td>11.934156</td>\n",
       "    </tr>\n",
       "    <tr>\n",
       "      <th>3</th>\n",
       "      <td>486</td>\n",
       "      <td>45</td>\n",
       "      <td>9.259259</td>\n",
       "    </tr>\n",
       "    <tr>\n",
       "      <th>4</th>\n",
       "      <td>486</td>\n",
       "      <td>29</td>\n",
       "      <td>5.967078</td>\n",
       "    </tr>\n",
       "    <tr>\n",
       "      <th>5</th>\n",
       "      <td>486</td>\n",
       "      <td>35</td>\n",
       "      <td>7.201646</td>\n",
       "    </tr>\n",
       "    <tr>\n",
       "      <th>6</th>\n",
       "      <td>486</td>\n",
       "      <td>39</td>\n",
       "      <td>8.024691</td>\n",
       "    </tr>\n",
       "    <tr>\n",
       "      <th>7</th>\n",
       "      <td>486</td>\n",
       "      <td>24</td>\n",
       "      <td>4.938272</td>\n",
       "    </tr>\n",
       "    <tr>\n",
       "      <th>8</th>\n",
       "      <td>486</td>\n",
       "      <td>30</td>\n",
       "      <td>6.172840</td>\n",
       "    </tr>\n",
       "    <tr>\n",
       "      <th>9</th>\n",
       "      <td>486</td>\n",
       "      <td>14</td>\n",
       "      <td>2.880658</td>\n",
       "    </tr>\n",
       "    <tr>\n",
       "      <th>10</th>\n",
       "      <td>490</td>\n",
       "      <td>16</td>\n",
       "      <td>3.265306</td>\n",
       "    </tr>\n",
       "  </tbody>\n",
       "</table>\n",
       "</div>"
      ],
      "text/plain": [
       "        # of customers  Freq of buy  %Response\n",
       "decile                                        \n",
       "1                  486           75  15.432099\n",
       "2                  486           58  11.934156\n",
       "3                  486           45   9.259259\n",
       "4                  486           29   5.967078\n",
       "5                  486           35   7.201646\n",
       "6                  486           39   8.024691\n",
       "7                  486           24   4.938272\n",
       "8                  486           30   6.172840\n",
       "9                  486           14   2.880658\n",
       "10                 490           16   3.265306"
      ]
     },
     "execution_count": 28,
     "metadata": {},
     "output_type": "execute_result"
    }
   ],
   "source": [
    "chart1"
   ]
  },
  {
   "cell_type": "code",
   "execution_count": 29,
   "metadata": {
    "scrolled": true
   },
   "outputs": [
    {
     "data": {
      "text/html": [
       "<div>\n",
       "<style scoped>\n",
       "    .dataframe tbody tr th:only-of-type {\n",
       "        vertical-align: middle;\n",
       "    }\n",
       "\n",
       "    .dataframe tbody tr th {\n",
       "        vertical-align: top;\n",
       "    }\n",
       "\n",
       "    .dataframe thead th {\n",
       "        text-align: right;\n",
       "    }\n",
       "</style>\n",
       "<table border=\"1\" class=\"dataframe\">\n",
       "  <thead>\n",
       "    <tr style=\"text-align: right;\">\n",
       "      <th></th>\n",
       "      <th># of customers</th>\n",
       "      <th>Freq of buy</th>\n",
       "      <th>%Response</th>\n",
       "    </tr>\n",
       "    <tr>\n",
       "      <th>decile</th>\n",
       "      <th></th>\n",
       "      <th></th>\n",
       "      <th></th>\n",
       "    </tr>\n",
       "  </thead>\n",
       "  <tbody>\n",
       "    <tr>\n",
       "      <th>1</th>\n",
       "      <td>486</td>\n",
       "      <td>75</td>\n",
       "      <td>15.432099</td>\n",
       "    </tr>\n",
       "    <tr>\n",
       "      <th>2</th>\n",
       "      <td>486</td>\n",
       "      <td>58</td>\n",
       "      <td>11.934156</td>\n",
       "    </tr>\n",
       "    <tr>\n",
       "      <th>3</th>\n",
       "      <td>486</td>\n",
       "      <td>45</td>\n",
       "      <td>9.259259</td>\n",
       "    </tr>\n",
       "    <tr>\n",
       "      <th>4</th>\n",
       "      <td>486</td>\n",
       "      <td>31</td>\n",
       "      <td>6.378601</td>\n",
       "    </tr>\n",
       "    <tr>\n",
       "      <th>5</th>\n",
       "      <td>486</td>\n",
       "      <td>33</td>\n",
       "      <td>6.790123</td>\n",
       "    </tr>\n",
       "    <tr>\n",
       "      <th>6</th>\n",
       "      <td>486</td>\n",
       "      <td>38</td>\n",
       "      <td>7.818930</td>\n",
       "    </tr>\n",
       "    <tr>\n",
       "      <th>7</th>\n",
       "      <td>486</td>\n",
       "      <td>26</td>\n",
       "      <td>5.349794</td>\n",
       "    </tr>\n",
       "    <tr>\n",
       "      <th>8</th>\n",
       "      <td>486</td>\n",
       "      <td>29</td>\n",
       "      <td>5.967078</td>\n",
       "    </tr>\n",
       "    <tr>\n",
       "      <th>9</th>\n",
       "      <td>486</td>\n",
       "      <td>14</td>\n",
       "      <td>2.880658</td>\n",
       "    </tr>\n",
       "    <tr>\n",
       "      <th>10</th>\n",
       "      <td>490</td>\n",
       "      <td>16</td>\n",
       "      <td>3.265306</td>\n",
       "    </tr>\n",
       "  </tbody>\n",
       "</table>\n",
       "</div>"
      ],
      "text/plain": [
       "        # of customers  Freq of buy  %Response\n",
       "decile                                        \n",
       "1                  486           75  15.432099\n",
       "2                  486           58  11.934156\n",
       "3                  486           45   9.259259\n",
       "4                  486           31   6.378601\n",
       "5                  486           33   6.790123\n",
       "6                  486           38   7.818930\n",
       "7                  486           26   5.349794\n",
       "8                  486           29   5.967078\n",
       "9                  486           14   2.880658\n",
       "10                 490           16   3.265306"
      ]
     },
     "execution_count": 29,
     "metadata": {},
     "output_type": "execute_result"
    }
   ],
   "source": [
    "chart2"
   ]
  },
  {
   "cell_type": "markdown",
   "metadata": {},
   "source": [
    "* Draw a non-cumulative lift chart using %Response as Y-axis"
   ]
  },
  {
   "cell_type": "code",
   "execution_count": 30,
   "metadata": {},
   "outputs": [],
   "source": [
    "import matplotlib.pyplot as plt"
   ]
  },
  {
   "cell_type": "code",
   "execution_count": 31,
   "metadata": {
    "scrolled": true
   },
   "outputs": [
    {
     "data": {
      "image/png": "[encoded data removed]",
      "text/plain": [
       "<Figure size 576x432 with 1 Axes>"
      ]
     },
     "metadata": {
      "needs_background": "light"
     },
     "output_type": "display_data"
    }
   ],
   "source": [
    "#model1 ,2\n",
    "plt.figure(figsize=(8, 6))\n",
    "\n",
    "x = np.array([1,2,3,4,5,6,7,8,9,10])\n",
    "\n",
    "plt.bar(x-0.2,chart1[\"%Response\"],width = 0.4,label = \"model1\",color =\"blue\")\n",
    "plt.bar(x+0.2,chart2[\"%Response\"],width = 0.4,label = \"model2\",color =\"orange\")\n",
    "plt.xticks([1,2,3,4,5,6,7,8,9,10])\n",
    "plt.title(\"Non-cumulative lift chart\")\n",
    "plt.xlabel(\"decile\")\n",
    "plt.ylabel(\"% Response\")\n",
    "plt.legend([\"model1\",\"model2\"])\n",
    "\n",
    "plt.show()"
   ]
  },
  {
   "cell_type": "code",
   "execution_count": 32,
   "metadata": {},
   "outputs": [
    {
     "data": {
      "image/png": "[encoded data removed]",
      "text/plain": [
       "<Figure size 576x432 with 1 Axes>"
      ]
     },
     "metadata": {
      "needs_background": "light"
     },
     "output_type": "display_data"
    }
   ],
   "source": [
    "#model 1\n",
    "plt.figure(figsize=(8, 6))\n",
    "\n",
    "plt.bar(chart1.index,chart1[\"%Response\"],alpha=1)\n",
    "plt.xticks([1,2,3,4,5,6,7,8,9,10])\n",
    "plt.title(\"Non-cumulative lift chart of model1\")\n",
    "plt.xlabel(\"decile\")\n",
    "plt.ylabel(\"% Response\")\n",
    "\n",
    "plt.show()"
   ]
  },
  {
   "cell_type": "code",
   "execution_count": 33,
   "metadata": {},
   "outputs": [
    {
     "data": {
      "image/png": "[encoded data removed]",
      "text/plain": [
       "<Figure size 576x432 with 1 Axes>"
      ]
     },
     "metadata": {
      "needs_background": "light"
     },
     "output_type": "display_data"
    }
   ],
   "source": [
    "#model 2\n",
    "plt.figure(figsize=(8, 6))\n",
    "\n",
    "plt.bar(chart2.index,chart2[\"%Response\"],alpha=1)\n",
    "plt.xticks([1,2,3,4,5,6,7,8,9,10])\n",
    "plt.title(\"Non-cumulative lift chart of model2\")\n",
    "plt.xlabel(\"decile\")\n",
    "plt.ylabel(\"% Response\")\n",
    "\n",
    "plt.show()"
   ]
  },
  {
   "cell_type": "markdown",
   "metadata": {},
   "source": [
    "### 4. Draw a (cumulative) Lift Chart using Python for the test data (use %Captured Response as the Y-axis). (Do not use Python packages)"
   ]
  },
  {
   "cell_type": "markdown",
   "metadata": {},
   "source": [
    "* lift chart (y = %captured response ,cumulative)"
   ]
  },
  {
   "cell_type": "code",
   "execution_count": 34,
   "metadata": {},
   "outputs": [],
   "source": [
    "cum_chart1 = chart1.drop([\"# of customers\",\"%Response\"],axis=1)\n",
    "cum_chart1[\"cum Freq\"] = chart1[\"Freq of buy\"].cumsum()\n",
    "cum_chart1[\"%Captured Response\"] = round(cum_chart1[\"cum Freq\"]/365*100,2)"
   ]
  },
  {
   "cell_type": "code",
   "execution_count": 35,
   "metadata": {},
   "outputs": [],
   "source": [
    "cum_chart2 = chart2.drop([\"# of customers\",\"%Response\"],axis=1)\n",
    "cum_chart2[\"cum Freq\"] = chart2[\"Freq of buy\"].cumsum()\n",
    "cum_chart2[\"%Captured Response\"] = round(cum_chart2[\"cum Freq\"]/365*100,2)"
   ]
  },
  {
   "cell_type": "code",
   "execution_count": 36,
   "metadata": {},
   "outputs": [
    {
     "data": {
      "text/html": [
       "<div>\n",
       "<style scoped>\n",
       "    .dataframe tbody tr th:only-of-type {\n",
       "        vertical-align: middle;\n",
       "    }\n",
       "\n",
       "    .dataframe tbody tr th {\n",
       "        vertical-align: top;\n",
       "    }\n",
       "\n",
       "    .dataframe thead th {\n",
       "        text-align: right;\n",
       "    }\n",
       "</style>\n",
       "<table border=\"1\" class=\"dataframe\">\n",
       "  <thead>\n",
       "    <tr style=\"text-align: right;\">\n",
       "      <th></th>\n",
       "      <th>Freq of buy</th>\n",
       "      <th>cum Freq</th>\n",
       "      <th>%Captured Response</th>\n",
       "    </tr>\n",
       "    <tr>\n",
       "      <th>decile</th>\n",
       "      <th></th>\n",
       "      <th></th>\n",
       "      <th></th>\n",
       "    </tr>\n",
       "  </thead>\n",
       "  <tbody>\n",
       "    <tr>\n",
       "      <th>1</th>\n",
       "      <td>75</td>\n",
       "      <td>75</td>\n",
       "      <td>20.55</td>\n",
       "    </tr>\n",
       "    <tr>\n",
       "      <th>2</th>\n",
       "      <td>58</td>\n",
       "      <td>133</td>\n",
       "      <td>36.44</td>\n",
       "    </tr>\n",
       "    <tr>\n",
       "      <th>3</th>\n",
       "      <td>45</td>\n",
       "      <td>178</td>\n",
       "      <td>48.77</td>\n",
       "    </tr>\n",
       "    <tr>\n",
       "      <th>4</th>\n",
       "      <td>29</td>\n",
       "      <td>207</td>\n",
       "      <td>56.71</td>\n",
       "    </tr>\n",
       "    <tr>\n",
       "      <th>5</th>\n",
       "      <td>35</td>\n",
       "      <td>242</td>\n",
       "      <td>66.30</td>\n",
       "    </tr>\n",
       "    <tr>\n",
       "      <th>6</th>\n",
       "      <td>39</td>\n",
       "      <td>281</td>\n",
       "      <td>76.99</td>\n",
       "    </tr>\n",
       "    <tr>\n",
       "      <th>7</th>\n",
       "      <td>24</td>\n",
       "      <td>305</td>\n",
       "      <td>83.56</td>\n",
       "    </tr>\n",
       "    <tr>\n",
       "      <th>8</th>\n",
       "      <td>30</td>\n",
       "      <td>335</td>\n",
       "      <td>91.78</td>\n",
       "    </tr>\n",
       "    <tr>\n",
       "      <th>9</th>\n",
       "      <td>14</td>\n",
       "      <td>349</td>\n",
       "      <td>95.62</td>\n",
       "    </tr>\n",
       "    <tr>\n",
       "      <th>10</th>\n",
       "      <td>16</td>\n",
       "      <td>365</td>\n",
       "      <td>100.00</td>\n",
       "    </tr>\n",
       "  </tbody>\n",
       "</table>\n",
       "</div>"
      ],
      "text/plain": [
       "        Freq of buy  cum Freq  %Captured Response\n",
       "decile                                           \n",
       "1                75        75               20.55\n",
       "2                58       133               36.44\n",
       "3                45       178               48.77\n",
       "4                29       207               56.71\n",
       "5                35       242               66.30\n",
       "6                39       281               76.99\n",
       "7                24       305               83.56\n",
       "8                30       335               91.78\n",
       "9                14       349               95.62\n",
       "10               16       365              100.00"
      ]
     },
     "execution_count": 36,
     "metadata": {},
     "output_type": "execute_result"
    }
   ],
   "source": [
    "cum_chart1"
   ]
  },
  {
   "cell_type": "code",
   "execution_count": 37,
   "metadata": {},
   "outputs": [
    {
     "data": {
      "text/html": [
       "<div>\n",
       "<style scoped>\n",
       "    .dataframe tbody tr th:only-of-type {\n",
       "        vertical-align: middle;\n",
       "    }\n",
       "\n",
       "    .dataframe tbody tr th {\n",
       "        vertical-align: top;\n",
       "    }\n",
       "\n",
       "    .dataframe thead th {\n",
       "        text-align: right;\n",
       "    }\n",
       "</style>\n",
       "<table border=\"1\" class=\"dataframe\">\n",
       "  <thead>\n",
       "    <tr style=\"text-align: right;\">\n",
       "      <th></th>\n",
       "      <th>Freq of buy</th>\n",
       "      <th>cum Freq</th>\n",
       "      <th>%Captured Response</th>\n",
       "    </tr>\n",
       "    <tr>\n",
       "      <th>decile</th>\n",
       "      <th></th>\n",
       "      <th></th>\n",
       "      <th></th>\n",
       "    </tr>\n",
       "  </thead>\n",
       "  <tbody>\n",
       "    <tr>\n",
       "      <th>1</th>\n",
       "      <td>75</td>\n",
       "      <td>75</td>\n",
       "      <td>20.55</td>\n",
       "    </tr>\n",
       "    <tr>\n",
       "      <th>2</th>\n",
       "      <td>58</td>\n",
       "      <td>133</td>\n",
       "      <td>36.44</td>\n",
       "    </tr>\n",
       "    <tr>\n",
       "      <th>3</th>\n",
       "      <td>45</td>\n",
       "      <td>178</td>\n",
       "      <td>48.77</td>\n",
       "    </tr>\n",
       "    <tr>\n",
       "      <th>4</th>\n",
       "      <td>31</td>\n",
       "      <td>209</td>\n",
       "      <td>57.26</td>\n",
       "    </tr>\n",
       "    <tr>\n",
       "      <th>5</th>\n",
       "      <td>33</td>\n",
       "      <td>242</td>\n",
       "      <td>66.30</td>\n",
       "    </tr>\n",
       "    <tr>\n",
       "      <th>6</th>\n",
       "      <td>38</td>\n",
       "      <td>280</td>\n",
       "      <td>76.71</td>\n",
       "    </tr>\n",
       "    <tr>\n",
       "      <th>7</th>\n",
       "      <td>26</td>\n",
       "      <td>306</td>\n",
       "      <td>83.84</td>\n",
       "    </tr>\n",
       "    <tr>\n",
       "      <th>8</th>\n",
       "      <td>29</td>\n",
       "      <td>335</td>\n",
       "      <td>91.78</td>\n",
       "    </tr>\n",
       "    <tr>\n",
       "      <th>9</th>\n",
       "      <td>14</td>\n",
       "      <td>349</td>\n",
       "      <td>95.62</td>\n",
       "    </tr>\n",
       "    <tr>\n",
       "      <th>10</th>\n",
       "      <td>16</td>\n",
       "      <td>365</td>\n",
       "      <td>100.00</td>\n",
       "    </tr>\n",
       "  </tbody>\n",
       "</table>\n",
       "</div>"
      ],
      "text/plain": [
       "        Freq of buy  cum Freq  %Captured Response\n",
       "decile                                           \n",
       "1                75        75               20.55\n",
       "2                58       133               36.44\n",
       "3                45       178               48.77\n",
       "4                31       209               57.26\n",
       "5                33       242               66.30\n",
       "6                38       280               76.71\n",
       "7                26       306               83.84\n",
       "8                29       335               91.78\n",
       "9                14       349               95.62\n",
       "10               16       365              100.00"
      ]
     },
     "execution_count": 37,
     "metadata": {},
     "output_type": "execute_result"
    }
   ],
   "source": [
    "cum_chart2"
   ]
  },
  {
   "cell_type": "markdown",
   "metadata": {},
   "source": [
    "* Draw a cumulative lift chart using %captured Resonse as Y-axis "
   ]
  },
  {
   "cell_type": "code",
   "execution_count": 38,
   "metadata": {},
   "outputs": [
    {
     "data": {
      "image/png": "[encoded data removed]",
      "text/plain": [
       "<Figure size 576x432 with 1 Axes>"
      ]
     },
     "metadata": {
      "needs_background": "light"
     },
     "output_type": "display_data"
    }
   ],
   "source": [
    "#model1 \n",
    "plt.figure(figsize=(8, 6))\n",
    "\n",
    "plt.bar(cum_chart1.index,cum_chart1[\"%Captured Response\"],alpha=1)\n",
    "plt.xticks([1,2,3,4,5,6,7,8,9,10])\n",
    "plt.title(\"cumulative lift chart of model1\")\n",
    "plt.xlabel(\"decile\")\n",
    "plt.ylabel(\"% captured response\")\n",
    "\n",
    "plt.show()"
   ]
  },
  {
   "cell_type": "code",
   "execution_count": 39,
   "metadata": {
    "scrolled": true
   },
   "outputs": [
    {
     "data": {
      "image/png": "[encoded data removed]",
      "text/plain": [
       "<Figure size 576x432 with 1 Axes>"
      ]
     },
     "metadata": {
      "needs_background": "light"
     },
     "output_type": "display_data"
    }
   ],
   "source": [
    "#model2\n",
    "plt.figure(figsize=(8, 6))\n",
    "\n",
    "plt.bar(cum_chart2.index,cum_chart2[\"%Captured Response\"],alpha=1)\n",
    "plt.xticks([1,2,3,4,5,6,7,8,9,10])\n",
    "plt.title(\"cumulative lift chart of model2\")\n",
    "plt.xlabel(\"decile\")\n",
    "plt.ylabel(\"% captured response\")\n",
    "\n",
    "plt.show()"
   ]
  },
  {
   "cell_type": "code",
   "execution_count": 40,
   "metadata": {},
   "outputs": [
    {
     "data": {
      "text/plain": [
       "[array([365, 365, 365, 365, 365, 365, 365, 365, 365, 365])]"
      ]
     },
     "execution_count": 40,
     "metadata": {},
     "output_type": "execute_result"
    }
   ],
   "source": [
    "[np.repeat(365,10)]"
   ]
  },
  {
   "cell_type": "markdown",
   "metadata": {},
   "source": [
    "### 5. Calculate the Accuracy Ratio of the two models. (Do not use Python packages)\n",
    "* model1의 AR은 0.273임\n",
    "* model2의 AR은 0.2718임"
   ]
  },
  {
   "cell_type": "code",
   "execution_count": 41,
   "metadata": {},
   "outputs": [],
   "source": [
    "#완벽한 누적 Captured Response (1분위에서 모든 구매자 365명 검출)\n",
    "perfect_cum_per=[0]+list(np.repeat(100,10))"
   ]
  },
  {
   "cell_type": "code",
   "execution_count": 42,
   "metadata": {},
   "outputs": [],
   "source": [
    "#최악의 경우의 누적 %Captured Response\n",
    "worst_cum_per = list(range(0,101,10))"
   ]
  },
  {
   "cell_type": "code",
   "execution_count": 43,
   "metadata": {},
   "outputs": [
    {
     "name": "stdout",
     "output_type": "stream",
     "text": [
      "[0, 100, 100, 100, 100, 100, 100, 100, 100, 100, 100]\n",
      "[0, 10, 20, 30, 40, 50, 60, 70, 80, 90, 100]\n"
     ]
    }
   ],
   "source": [
    "print(perfect_cum_per)\n",
    "print(worst_cum_per)"
   ]
  },
  {
   "cell_type": "markdown",
   "metadata": {},
   "source": [
    "* draw CAP for model 1 ,2 "
   ]
  },
  {
   "cell_type": "code",
   "execution_count": 44,
   "metadata": {},
   "outputs": [],
   "source": [
    "x = [0,1,2,3,4,5,6,7,8,9,10]"
   ]
  },
  {
   "cell_type": "code",
   "execution_count": 45,
   "metadata": {},
   "outputs": [
    {
     "data": {
      "image/png": "[encoded data removed]",
      "text/plain": [
       "<Figure size 720x432 with 1 Axes>"
      ]
     },
     "metadata": {
      "needs_background": "light"
     },
     "output_type": "display_data"
    }
   ],
   "source": [
    "#CAP for model 1 and 2\n",
    "plt.figure(figsize=(10, 6))\n",
    "\n",
    "plt.plot(x,perfect_cum_per,color=\"blue\")\n",
    "plt.plot(x,worst_cum_per,color=\"red\")\n",
    "plt.plot(x,[0]+list(cum_chart1[\"%Captured Response\"]),color=\"green\")\n",
    "plt.plot(x,[0]+list(cum_chart2[\"%Captured Response\"]),color=\"orange\")\n",
    "plt.xticks(x)\n",
    "plt.title(\"CAP for model 1 & 2\")\n",
    "plt.xlabel(\"decile\")\n",
    "plt.ylabel(\"% Captured Response\")\n",
    "plt.legend([\"perfect\",\"worst\",\"model1\",\"model2\"])\n",
    "plt.show()"
   ]
  },
  {
   "cell_type": "markdown",
   "metadata": {},
   "source": [
    "* calculating AR for model 1&2 "
   ]
  },
  {
   "cell_type": "code",
   "execution_count": 46,
   "metadata": {},
   "outputs": [
    {
     "data": {
      "text/plain": [
       "450.0"
      ]
     },
     "execution_count": 46,
     "metadata": {},
     "output_type": "execute_result"
    }
   ],
   "source": [
    "area_perfect = 9*100*0.5\n",
    "area_perfect"
   ]
  },
  {
   "cell_type": "code",
   "execution_count": 47,
   "metadata": {},
   "outputs": [],
   "source": [
    "diff1 = [0]+list(cum_chart1[\"%Captured Response\"])-np.array(worst_cum_per)\n",
    "diff1 = list(diff1)\n",
    "\n",
    "area = 0 \n",
    "for i in x[:-1] :\n",
    "    s = (diff1[i] + diff1[i+1])* 0.5\n",
    "    area = area + s\n",
    "    \n",
    "    \n",
    "AR1 = area / area_perfect"
   ]
  },
  {
   "cell_type": "code",
   "execution_count": 48,
   "metadata": {},
   "outputs": [],
   "source": [
    "diff2 = [0]+list(cum_chart2[\"%Captured Response\"])-np.array(worst_cum_per)\n",
    "diff2 = list(diff2)\n",
    "\n",
    "area = 0 \n",
    "for i in x[:-1] :\n",
    "    s = (diff2[i] + diff2[i+1])* 0.5\n",
    "    area = area + s\n",
    "\n",
    "AR2 = area / area_perfect"
   ]
  },
  {
   "cell_type": "code",
   "execution_count": 49,
   "metadata": {},
   "outputs": [
    {
     "name": "stdout",
     "output_type": "stream",
     "text": [
      "0.2816\n",
      "0.2828222222222222\n"
     ]
    }
   ],
   "source": [
    "print(AR1)\n",
    "print(AR2)"
   ]
  },
  {
   "cell_type": "markdown",
   "metadata": {},
   "source": [
    "### 6. Which model would you choose?"
   ]
  },
  {
   "cell_type": "markdown",
   "metadata": {},
   "source": [
    "model 2 (AR이 더 크기 때문)"
   ]
  },
  {
   "cell_type": "markdown",
   "metadata": {},
   "source": [
    "### 7. Using the model that you chose in #6, draw a (cumulative) Profit Chart using Python for the validation data under the following conditions.\n",
    "* Fixed cost  = 5,000 (dollar)  \n",
    "* Cost per mailing = 7 (dollars) \n",
    "* Profit for each purchase = 100(dollars)\n",
    "#### NOTE: Calculate profits for the company (not for a person)."
   ]
  },
  {
   "cell_type": "code",
   "execution_count": 55,
   "metadata": {},
   "outputs": [],
   "source": [
    "profit_chart = chart2.drop(\"%Response\",axis=1)"
   ]
  },
  {
   "cell_type": "code",
   "execution_count": 56,
   "metadata": {},
   "outputs": [],
   "source": [
    "profit_chart[\"cum customer\"] = chart2[\"# of customers\"].cumsum()\n",
    "profit_chart[\"cum Freq of buy\"] = chart2[\"Freq of buy\"].cumsum()"
   ]
  },
  {
   "cell_type": "code",
   "execution_count": 57,
   "metadata": {},
   "outputs": [],
   "source": [
    "profit_chart[\"cum_cost\"] = 5000 + 7 *profit_chart[\"cum customer\"]\n",
    "profit_chart[\"cum_income\"] = 100 * profit_chart[\"cum Freq of buy\"]\n",
    "profit_chart[\"cum_profit\"] = profit_chart[\"cum_income\"]-profit_chart[\"cum_cost\"]"
   ]
  },
  {
   "cell_type": "code",
   "execution_count": 58,
   "metadata": {},
   "outputs": [
    {
     "data": {
      "text/html": [
       "<div>\n",
       "<style scoped>\n",
       "    .dataframe tbody tr th:only-of-type {\n",
       "        vertical-align: middle;\n",
       "    }\n",
       "\n",
       "    .dataframe tbody tr th {\n",
       "        vertical-align: top;\n",
       "    }\n",
       "\n",
       "    .dataframe thead th {\n",
       "        text-align: right;\n",
       "    }\n",
       "</style>\n",
       "<table border=\"1\" class=\"dataframe\">\n",
       "  <thead>\n",
       "    <tr style=\"text-align: right;\">\n",
       "      <th></th>\n",
       "      <th># of customers</th>\n",
       "      <th>Freq of buy</th>\n",
       "      <th>cum customer</th>\n",
       "      <th>cum Freq of buy</th>\n",
       "      <th>cum_cost</th>\n",
       "      <th>cum_income</th>\n",
       "      <th>cum_profit</th>\n",
       "    </tr>\n",
       "    <tr>\n",
       "      <th>decile</th>\n",
       "      <th></th>\n",
       "      <th></th>\n",
       "      <th></th>\n",
       "      <th></th>\n",
       "      <th></th>\n",
       "      <th></th>\n",
       "      <th></th>\n",
       "    </tr>\n",
       "  </thead>\n",
       "  <tbody>\n",
       "    <tr>\n",
       "      <th>1</th>\n",
       "      <td>486</td>\n",
       "      <td>75</td>\n",
       "      <td>486</td>\n",
       "      <td>75</td>\n",
       "      <td>8402</td>\n",
       "      <td>7500</td>\n",
       "      <td>-902</td>\n",
       "    </tr>\n",
       "    <tr>\n",
       "      <th>2</th>\n",
       "      <td>486</td>\n",
       "      <td>58</td>\n",
       "      <td>972</td>\n",
       "      <td>133</td>\n",
       "      <td>11804</td>\n",
       "      <td>13300</td>\n",
       "      <td>1496</td>\n",
       "    </tr>\n",
       "    <tr>\n",
       "      <th>3</th>\n",
       "      <td>486</td>\n",
       "      <td>45</td>\n",
       "      <td>1458</td>\n",
       "      <td>178</td>\n",
       "      <td>15206</td>\n",
       "      <td>17800</td>\n",
       "      <td>2594</td>\n",
       "    </tr>\n",
       "    <tr>\n",
       "      <th>4</th>\n",
       "      <td>486</td>\n",
       "      <td>31</td>\n",
       "      <td>1944</td>\n",
       "      <td>209</td>\n",
       "      <td>18608</td>\n",
       "      <td>20900</td>\n",
       "      <td>2292</td>\n",
       "    </tr>\n",
       "    <tr>\n",
       "      <th>5</th>\n",
       "      <td>486</td>\n",
       "      <td>33</td>\n",
       "      <td>2430</td>\n",
       "      <td>242</td>\n",
       "      <td>22010</td>\n",
       "      <td>24200</td>\n",
       "      <td>2190</td>\n",
       "    </tr>\n",
       "    <tr>\n",
       "      <th>6</th>\n",
       "      <td>486</td>\n",
       "      <td>38</td>\n",
       "      <td>2916</td>\n",
       "      <td>280</td>\n",
       "      <td>25412</td>\n",
       "      <td>28000</td>\n",
       "      <td>2588</td>\n",
       "    </tr>\n",
       "    <tr>\n",
       "      <th>7</th>\n",
       "      <td>486</td>\n",
       "      <td>26</td>\n",
       "      <td>3402</td>\n",
       "      <td>306</td>\n",
       "      <td>28814</td>\n",
       "      <td>30600</td>\n",
       "      <td>1786</td>\n",
       "    </tr>\n",
       "    <tr>\n",
       "      <th>8</th>\n",
       "      <td>486</td>\n",
       "      <td>29</td>\n",
       "      <td>3888</td>\n",
       "      <td>335</td>\n",
       "      <td>32216</td>\n",
       "      <td>33500</td>\n",
       "      <td>1284</td>\n",
       "    </tr>\n",
       "    <tr>\n",
       "      <th>9</th>\n",
       "      <td>486</td>\n",
       "      <td>14</td>\n",
       "      <td>4374</td>\n",
       "      <td>349</td>\n",
       "      <td>35618</td>\n",
       "      <td>34900</td>\n",
       "      <td>-718</td>\n",
       "    </tr>\n",
       "    <tr>\n",
       "      <th>10</th>\n",
       "      <td>490</td>\n",
       "      <td>16</td>\n",
       "      <td>4864</td>\n",
       "      <td>365</td>\n",
       "      <td>39048</td>\n",
       "      <td>36500</td>\n",
       "      <td>-2548</td>\n",
       "    </tr>\n",
       "  </tbody>\n",
       "</table>\n",
       "</div>"
      ],
      "text/plain": [
       "        # of customers  Freq of buy  cum customer  cum Freq of buy  cum_cost  \\\n",
       "decile                                                                         \n",
       "1                  486           75           486               75      8402   \n",
       "2                  486           58           972              133     11804   \n",
       "3                  486           45          1458              178     15206   \n",
       "4                  486           31          1944              209     18608   \n",
       "5                  486           33          2430              242     22010   \n",
       "6                  486           38          2916              280     25412   \n",
       "7                  486           26          3402              306     28814   \n",
       "8                  486           29          3888              335     32216   \n",
       "9                  486           14          4374              349     35618   \n",
       "10                 490           16          4864              365     39048   \n",
       "\n",
       "        cum_income  cum_profit  \n",
       "decile                          \n",
       "1             7500        -902  \n",
       "2            13300        1496  \n",
       "3            17800        2594  \n",
       "4            20900        2292  \n",
       "5            24200        2190  \n",
       "6            28000        2588  \n",
       "7            30600        1786  \n",
       "8            33500        1284  \n",
       "9            34900        -718  \n",
       "10           36500       -2548  "
      ]
     },
     "execution_count": 58,
     "metadata": {},
     "output_type": "execute_result"
    }
   ],
   "source": [
    "profit_chart"
   ]
  },
  {
   "cell_type": "code",
   "execution_count": 60,
   "metadata": {
    "scrolled": true
   },
   "outputs": [
    {
     "data": {
      "image/png": "[encoded data removed]",
      "text/plain": [
       "<Figure size 576x432 with 1 Axes>"
      ]
     },
     "metadata": {
      "needs_background": "light"
     },
     "output_type": "display_data"
    }
   ],
   "source": [
    "#profit chart of model2\n",
    "plt.figure(figsize=(8, 6))\n",
    "\n",
    "plt.bar(profit_chart.index,profit_chart[\"cum_profit\"],alpha=1)\n",
    "plt.xticks([1,2,3,4,5,6,7,8,9,10])\n",
    "plt.title(\"profit chart of model2\")\n",
    "plt.xlabel(\"decile\")\n",
    "plt.ylabel(\"profit (dollars)\")\n",
    "\n",
    "plt.show()"
   ]
  },
  {
   "cell_type": "markdown",
   "metadata": {},
   "source": [
    "### 8. Suggetst the proportion of 'likely-to-buy' customers to mail out the mailings, using the result in #7."
   ]
  },
  {
   "cell_type": "markdown",
   "metadata": {},
   "source": [
    "30%"
   ]
  }
 ],
 "metadata": {
  "kernelspec": {
   "display_name": "Python 3",
   "language": "python",
   "name": "python3"
  },
  "language_info": {
   "codemirror_mode": {
    "name": "ipython",
    "version": 3
   },
   "file_extension": ".py",
   "mimetype": "text/x-python",
   "name": "python",
   "nbconvert_exporter": "python",
   "pygments_lexer": "ipython3",
   "version": "3.7.6"
  }
 },
 "nbformat": 4,
 "nbformat_minor": 4
}
